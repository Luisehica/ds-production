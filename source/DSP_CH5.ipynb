{
 "cells": [
  {
   "cell_type": "code",
   "execution_count": 2,
   "metadata": {},
   "outputs": [
    {
     "name": "stderr",
     "output_type": "stream",
     "text": [
      "/home/ec2-user/.local/lib/python3.7/site-packages/sklearn/linear_model/logistic.py:432: FutureWarning: Default solver will be changed to 'lbfgs' in 0.22. Specify a solver to silence this warning.\n",
      "  FutureWarning)\n",
      "1it [00:03,  3.35s/it]\n"
     ]
    }
   ],
   "source": [
    "import pandas as pd\n",
    "import numpy as np\n",
    "from google.oauth2 import service_account\n",
    "from sklearn.linear_model import LogisticRegression\n",
    "from datetime import datetime\n",
    "import pandas_gbq\n",
    "\n",
    "# fetch the data set and add IDs \n",
    "gamesDF = pd.read_csv(\"https://github.com/bgweber/Twitch/raw/master/Recommendations/games-expand.csv\")\n",
    "gamesDF['User_ID'] = gamesDF.index \n",
    "gamesDF['New_User'] = np.floor(np.random.randint(0, 10, gamesDF.shape[0])/9)\n",
    "\n",
    "# train and test groups \n",
    "train = gamesDF[gamesDF['New_User'] == 0]\n",
    "x_train = train.iloc[:,0:10]\n",
    "y_train = train['label']\n",
    "test = gamesDF[gamesDF['New_User'] == 1]\n",
    "x_test = test.iloc[:,0:10]\n",
    "\n",
    "# build a model\n",
    "model = LogisticRegression()\n",
    "model.fit(x_train, y_train)\n",
    "y_pred = model.predict_proba(x_test)[:, 1]\n",
    "\n",
    "# build a predictions data frame\n",
    "resultDF = pd.DataFrame({'User_ID':test['User_ID'], 'Pred':y_pred} ) \n",
    "resultDF['time'] = str(datetime. now())\n",
    "\n",
    "# save predictions to BigQuery \n",
    "table_id = \"dsp_demo.user_scores\"\n",
    "project_id = \"gameanalytics-199018\"\n",
    "credentials = service_account.Credentials.from_service_account_file('dsdemo.json')\n",
    "pandas_gbq.to_gbq(resultDF, table_id, project_id=project_id, if_exists = 'replace', credentials=credentials)\n"
   ]
  },
  {
   "cell_type": "code",
   "execution_count": 10,
   "metadata": {},
   "outputs": [
    {
     "data": {
      "text/html": [
       "<div>\n",
       "<style scoped>\n",
       "    .dataframe tbody tr th:only-of-type {\n",
       "        vertical-align: middle;\n",
       "    }\n",
       "\n",
       "    .dataframe tbody tr th {\n",
       "        vertical-align: top;\n",
       "    }\n",
       "\n",
       "    .dataframe thead th {\n",
       "        text-align: right;\n",
       "    }\n",
       "</style>\n",
       "<table border=\"1\" class=\"dataframe\">\n",
       "  <thead>\n",
       "    <tr style=\"text-align: right;\">\n",
       "      <th></th>\n",
       "      <th>User_ID</th>\n",
       "      <th>Pred</th>\n",
       "      <th>time</th>\n",
       "    </tr>\n",
       "  </thead>\n",
       "  <tbody>\n",
       "    <tr>\n",
       "      <th>0</th>\n",
       "      <td>2735</td>\n",
       "      <td>0.112154</td>\n",
       "      <td>2019-11-04 01:06:02.929789</td>\n",
       "    </tr>\n",
       "    <tr>\n",
       "      <th>1</th>\n",
       "      <td>6597</td>\n",
       "      <td>0.209646</td>\n",
       "      <td>2019-11-04 01:06:02.929789</td>\n",
       "    </tr>\n",
       "    <tr>\n",
       "      <th>2</th>\n",
       "      <td>13159</td>\n",
       "      <td>0.209646</td>\n",
       "      <td>2019-11-04 01:06:02.929789</td>\n",
       "    </tr>\n",
       "    <tr>\n",
       "      <th>3</th>\n",
       "      <td>18179</td>\n",
       "      <td>0.209646</td>\n",
       "      <td>2019-11-04 01:06:02.929789</td>\n",
       "    </tr>\n",
       "    <tr>\n",
       "      <th>4</th>\n",
       "      <td>466</td>\n",
       "      <td>0.283951</td>\n",
       "      <td>2019-11-04 01:06:02.929789</td>\n",
       "    </tr>\n",
       "  </tbody>\n",
       "</table>\n",
       "</div>"
      ],
      "text/plain": [
       "   User_ID      Pred                        time\n",
       "0     2735  0.112154  2019-11-04 01:06:02.929789\n",
       "1     6597  0.209646  2019-11-04 01:06:02.929789\n",
       "2    13159  0.209646  2019-11-04 01:06:02.929789\n",
       "3    18179  0.209646  2019-11-04 01:06:02.929789\n",
       "4      466  0.283951  2019-11-04 01:06:02.929789"
      ]
     },
     "execution_count": 10,
     "metadata": {},
     "output_type": "execute_result"
    }
   ],
   "source": [
    "from google.oauth2 import service_account\n",
    "import pandas_gbq\n",
    "\n",
    "credentials = service_account.Credentials.from_service_account_file(\n",
    "    'dsdemo.json',\n",
    ")\n",
    "\n",
    "project_id = \"gameanalytics-199018\"\n",
    "sql = \"SELECT * FROM  dsp_demo.user_scores\"\n",
    "df = pandas_gbq.read_gbq(sql, project_id=project_id, credentials=credentials)\n",
    "df.head()\n"
   ]
  },
  {
   "cell_type": "code",
   "execution_count": null,
   "metadata": {},
   "outputs": [],
   "source": []
  }
 ],
 "metadata": {
  "kernelspec": {
   "display_name": "Python 3",
   "language": "python",
   "name": "python3"
  },
  "language_info": {
   "codemirror_mode": {
    "name": "ipython",
    "version": 3
   },
   "file_extension": ".py",
   "mimetype": "text/x-python",
   "name": "python",
   "nbconvert_exporter": "python",
   "pygments_lexer": "ipython3",
   "version": "3.7.4"
  }
 },
 "nbformat": 4,
 "nbformat_minor": 2
}
